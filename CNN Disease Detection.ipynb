{
 "cells": [
  {
   "cell_type": "markdown",
   "metadata": {},
   "source": [
    "##  Disease detection using CNN on X-ray Images"
   ]
  },
  {
   "cell_type": "markdown",
   "metadata": {},
   "source": [
    "### Importing all the relevant modules"
   ]
  },
  {
   "cell_type": "code",
   "execution_count": 3,
   "metadata": {},
   "outputs": [],
   "source": [
    "import numpy as np\n",
    "import pandas as pd\n",
    "from PIL import Image\n",
    "import os\n",
    "from random import random\n",
    "from random import seed\n",
    "import time\n",
    "from datetime import datetime, timedelta\n",
    "from numpy import expand_dims\n",
    "from sklearn.model_selection import train_test_split\n",
    "from sklearn.metrics import confusion_matrix"
   ]
  },
  {
   "cell_type": "code",
   "execution_count": 2,
   "metadata": {},
   "outputs": [
    {
     "name": "stderr",
     "output_type": "stream",
     "text": [
      "Using TensorFlow backend.\n"
     ]
    }
   ],
   "source": [
    "from keras.layers import Input, Dense, Flatten, Reshape\n",
    "from keras.models import Model, Sequential\n",
    "from keras.layers import Dropout\n",
    "from keras.layers import Conv2D, MaxPooling2D, UpSampling2D\n",
    "from keras.utils import Sequence\n",
    "from keras.utils import to_categorical"
   ]
  },
  {
   "cell_type": "code",
   "execution_count": 4,
   "metadata": {},
   "outputs": [],
   "source": [
    "# Auxilliary Functions to record execution time\n",
    "\n",
    "def secondsToTime(seconds):\n",
    "    min, sec = divmod(seconds, 60) \n",
    "    hour, min = divmod(min, 60) \n",
    "    return \"%d:%02d:%02d\" % (hour, min, sec) + \" h:m:s\"\n",
    "\n",
    "def printElapsedTime(startTime):\n",
    "    endTime = time.time()\n",
    "    totalTime = endTime - startTime\n",
    "    print(\"Elapsed time:\",secondsToTime(totalTime))"
   ]
  },
  {
   "cell_type": "markdown",
   "metadata": {},
   "source": [
    "### Labeling data and splitting data set to train and validation set "
   ]
  },
  {
   "cell_type": "code",
   "execution_count": 5,
   "metadata": {},
   "outputs": [],
   "source": [
    "# Folders in the directory containing the images\n",
    "\n",
    "folders = ['Type A','Type B','Type C','NORMAL']"
   ]
  },
  {
   "cell_type": "code",
   "execution_count": 6,
   "metadata": {},
   "outputs": [],
   "source": [
    "# Create labels for different diseases\n",
    "labels_value = {'Type A' : 0, 'Type B' : 1, 'Type C' : 2, 'NORMAL' : 3}\n",
    "partition = {'train' : [], 'validation' : []}\n",
    "labels = {}\n",
    "image_name  = []\n",
    "image_label = []"
   ]
  },
  {
   "cell_type": "code",
   "execution_count": 7,
   "metadata": {},
   "outputs": [],
   "source": [
    "for dir in folders:\n",
    "    for filename in os.listdir(dir):\n",
    "        \n",
    "        # Append the folder name and file name to image_name\n",
    "        ID = str(dir+'/'+filename)\n",
    "        image_name.append(ID)\n",
    "        \n",
    "        # Append the label of the image to image_label\n",
    "        image_label.append(dir)\n",
    "        \n",
    "        # Create a key value pair for image name and the label\n",
    "        labels[ID] = labels_value[dir]"
   ]
  },
  {
   "cell_type": "code",
   "execution_count": 8,
   "metadata": {},
   "outputs": [
    {
     "name": "stdout",
     "output_type": "stream",
     "text": [
      "2389\n"
     ]
    }
   ],
   "source": [
    "# Total Number of files:\n",
    "\n",
    "print(len(image_name))"
   ]
  },
  {
   "cell_type": "code",
   "execution_count": 9,
   "metadata": {},
   "outputs": [],
   "source": [
    "# Split the files into training and validation set \n",
    "\n",
    "X_train, X_test, y_train, y_test = train_test_split(image_name, image_label, test_size=0.15, random_state=42)"
   ]
  },
  {
   "cell_type": "code",
   "execution_count": 10,
   "metadata": {},
   "outputs": [
    {
     "name": "stdout",
     "output_type": "stream",
     "text": [
      "Distribution of training data set:\n",
      "{'Type A': 540, 'Type B': 228, 'Type C': 238, 'NORMAL': 1030}\n",
      "Distribution of validation data set:\n",
      "{'Type A': 102, 'Type B': 26, 'Type C': 50, 'NORMAL': 187}\n"
     ]
    }
   ],
   "source": [
    "# Number of images in test and train for each disease\n",
    "\n",
    "def display_count(data):\n",
    "    count = {'Type A' : 0, 'Type B' : 1, 'Type C' : 2, 'NORMAL' : 3}\n",
    "    for label in data:\n",
    "        count[label] += 1\n",
    "    print(count)\n",
    "\n",
    "print('Distribution of training data set:')\n",
    "display_count(y_train)\n",
    "\n",
    "print('Distribution of validation data set:')\n",
    "display_count(y_test)"
   ]
  },
  {
   "cell_type": "code",
   "execution_count": 11,
   "metadata": {},
   "outputs": [
    {
     "name": "stdout",
     "output_type": "stream",
     "text": [
      "Total number of Training set:  2030\n",
      "Total number of Validation set:  359\n"
     ]
    }
   ],
   "source": [
    "print('Total number of Training set: ',len(X_train))\n",
    "print('Total number of Validation set: ',len(X_test))"
   ]
  },
  {
   "cell_type": "markdown",
   "metadata": {},
   "source": [
    "## Creating data generators for training the images with less computational overhead"
   ]
  },
  {
   "cell_type": "code",
   "execution_count": 52,
   "metadata": {},
   "outputs": [],
   "source": [
    "class DataGenerator(Sequence):\n",
    "    'Generates data for Keras'\n",
    "    def __init__(self, list_IDs, labels, batch_size, dim, n_channels,\n",
    "                 n_classes, shuffle):\n",
    "        'Initialization'\n",
    "        self.dim = dim\n",
    "        self.batch_size = batch_size\n",
    "        self.labels = labels\n",
    "        self.list_IDs = list_IDs\n",
    "        self.n_channels = n_channels\n",
    "        self.n_classes = n_classes\n",
    "        self.shuffle = shuffle\n",
    "        self.on_epoch_end()\n",
    "\n",
    "    def __len__(self):\n",
    "        'Denotes the number of batches per epoch'\n",
    "        return int(np.ceil(len(self.list_IDs) / self.batch_size))\n",
    "\n",
    "    def __getitem__(self, index):\n",
    "        \n",
    "        'Generate one batch of data'\n",
    "        # Generate indexes of the batch\n",
    "        #indexes = self.indexes[index*self.batch_size:(index+1)*self.batch_size]\n",
    "\n",
    "        # Find list of IDs\n",
    "        #list_IDs_temp = [self.list_IDs[k] for k in indexes]\n",
    "\n",
    "        # Generate data\n",
    "        #X, y = self.__data_generation(list_IDs_temp)\n",
    "        \n",
    "        \n",
    "        idx_min = index*self.batch_size\n",
    "        idx_max = min(idx_min + self.batch_size, len(self.list_IDs))\n",
    "        indexes = self.indexes[idx_min: idx_max]\n",
    "        \n",
    "        \n",
    "        # Find list of IDs\n",
    "        list_IDs_temp = [self.list_IDs[k] for k in indexes]\n",
    "\n",
    "        # Generate data\n",
    "        X, y = self.__data_generation(list_IDs_temp)\n",
    "\n",
    "        return X, y\n",
    "\n",
    "    def on_epoch_end(self):\n",
    "        'Updates indexes after each epoch'\n",
    "        self.indexes = np.arange(len(self.list_IDs))\n",
    "        if self.shuffle == True:\n",
    "            np.random.shuffle(self.indexes)\n",
    "\n",
    "    def __data_generation(self, list_IDs_temp):\n",
    "        'Generates data containing batch_size samples' # X : (n_samples, *dim, n_channels)\n",
    "        # Initialization\n",
    "        X = np.empty((self.batch_size, *self.dim, self.n_channels))\n",
    "        y = np.empty((self.batch_size), dtype=int)\n",
    "\n",
    "        # Generate data\n",
    "        for i, ID in enumerate(list_IDs_temp):\n",
    "\n",
    "            img = Image.open(ID)\n",
    "            array = np.asarray(img)\n",
    "            shape = array.shape\n",
    "\n",
    "            # Convert the shape of image to 1-D\n",
    "            if len(shape) == 3:\n",
    "                img = img.convert('L')\n",
    "\n",
    "            # Resize the images to 256 x 256:\n",
    "            img = img.resize((256,256))\n",
    "                \n",
    "            array = np.asarray(img)\n",
    "            \n",
    "            \n",
    "            array = array/255\n",
    "                \n",
    "            data_last = expand_dims(array, axis=2)\n",
    "            \n",
    "            X[i,] = data_last\n",
    "\n",
    "            # Store class\n",
    "            y[i] = self.labels[ID]\n",
    "\n",
    "        return X, to_categorical(y, num_classes=self.n_classes)"
   ]
  },
  {
   "cell_type": "code",
   "execution_count": 13,
   "metadata": {},
   "outputs": [],
   "source": [
    "# Parameters\n",
    "params = {'dim': (256,256),\n",
    "          'batch_size': 10,\n",
    "          'n_classes': 4,\n",
    "          'n_channels': 1,\n",
    "          'shuffle': False}"
   ]
  },
  {
   "cell_type": "code",
   "execution_count": 18,
   "metadata": {},
   "outputs": [],
   "source": [
    "def larger_model():\n",
    "    # create model\n",
    "    model = Sequential()\n",
    "    model.add(Conv2D(50, (3,3), input_shape=(256, 256,1), activation='relu'))\n",
    "    model.add(MaxPooling2D(pool_size=(3, 3)))\n",
    "    model.add(Dropout(0.25))\n",
    "    model.add(Conv2D(25, (3, 3), activation='relu'))\n",
    "    model.add(MaxPooling2D(pool_size=(2, 2)))\n",
    "    model.add(Conv2D(15, (2, 2), activation='relu'))\n",
    "    model.add(Dropout(0.25))\n",
    "    model.add(Flatten())\n",
    "    model.add(Dense(256, activation='relu'))\n",
    "    model.add(Dense(64, activation='relu'))\n",
    "    model.add(Dense(4, activation='softmax'))\n",
    "    # Compile model\n",
    "    model.compile(loss='categorical_crossentropy', optimizer='adam', metrics=['accuracy'])\n",
    "    return model"
   ]
  },
  {
   "cell_type": "markdown",
   "metadata": {},
   "source": [
    "## Model trained with 93% validation accuracy\n"
   ]
  },
  {
   "cell_type": "code",
   "execution_count": 53,
   "metadata": {},
   "outputs": [],
   "source": [
    "# Generators\n",
    "training_generator = DataGenerator(X_train, labels, **params)\n",
    "validation_generator = DataGenerator(X_test, labels, **params)"
   ]
  },
  {
   "cell_type": "code",
   "execution_count": 24,
   "metadata": {},
   "outputs": [],
   "source": [
    "# build the model\n",
    "model = larger_model()"
   ]
  },
  {
   "cell_type": "code",
   "execution_count": 25,
   "metadata": {
    "scrolled": true
   },
   "outputs": [
    {
     "name": "stdout",
     "output_type": "stream",
     "text": [
      "Epoch 1/10\n",
      "203/203 [==============================] - 85s 420ms/step - loss: 0.6519 - acc: 0.7394 - val_loss: 0.3417 - val_acc: 0.8314\n",
      "Epoch 2/10\n",
      "203/203 [==============================] - 85s 419ms/step - loss: 0.3743 - acc: 0.8645 - val_loss: 0.2843 - val_acc: 0.8914\n",
      "Epoch 3/10\n",
      "203/203 [==============================] - 88s 435ms/step - loss: 0.2513 - acc: 0.9103 - val_loss: 0.3066 - val_acc: 0.8914\n",
      "Epoch 4/10\n",
      "203/203 [==============================] - 89s 439ms/step - loss: 0.1884 - acc: 0.9365 - val_loss: 0.2434 - val_acc: 0.9171\n",
      "Epoch 5/10\n",
      "203/203 [==============================] - 90s 442ms/step - loss: 0.1188 - acc: 0.9567 - val_loss: 0.2597 - val_acc: 0.9343\n",
      "Epoch 6/10\n",
      "203/203 [==============================] - 90s 444ms/step - loss: 0.0923 - acc: 0.9635 - val_loss: 0.2935 - val_acc: 0.9171\n",
      "Epoch 7/10\n",
      "203/203 [==============================] - 92s 451ms/step - loss: 0.0752 - acc: 0.9754 - val_loss: 0.2236 - val_acc: 0.9371\n",
      "Epoch 8/10\n",
      "203/203 [==============================] - 88s 431ms/step - loss: 0.0518 - acc: 0.9823 - val_loss: 0.3390 - val_acc: 0.9171\n",
      "Epoch 9/10\n",
      "203/203 [==============================] - 88s 432ms/step - loss: 0.0520 - acc: 0.9842 - val_loss: 0.3625 - val_acc: 0.9114\n",
      "Epoch 10/10\n",
      "203/203 [==============================] - 89s 439ms/step - loss: 0.0721 - acc: 0.9734 - val_loss: 0.2261 - val_acc: 0.9429\n",
      "Elapsed time: 0:14:44 h:m:s\n"
     ]
    }
   ],
   "source": [
    "seed(42)\n",
    "startTime = time.time()\n",
    "\n",
    "# Train model on dataset\n",
    "model.fit_generator(generator=training_generator,\n",
    "                    validation_data=validation_generator,\n",
    "                    use_multiprocessing=False,\n",
    "                    \n",
    "                    epochs = 10)\n",
    "\n",
    "printElapsedTime(startTime)"
   ]
  },
  {
   "cell_type": "markdown",
   "metadata": {},
   "source": [
    "### Confusion Matrix of the results"
   ]
  },
  {
   "cell_type": "code",
   "execution_count": 54,
   "metadata": {},
   "outputs": [],
   "source": [
    "# Get the prediction results from the model\n",
    "\n",
    "scores = model.predict_generator(validation_generator)\n",
    "predicted_class_indices=np.argmax(scores,axis=1)"
   ]
  },
  {
   "cell_type": "code",
   "execution_count": 87,
   "metadata": {},
   "outputs": [],
   "source": [
    "# Get labels of test set\n",
    "\n",
    "test_labels = [labels_value[k] for k in y_test]"
   ]
  },
  {
   "cell_type": "code",
   "execution_count": 85,
   "metadata": {},
   "outputs": [],
   "source": [
    "# Create confusion Matrix \n",
    "\n",
    "cm = confusion_matrix(predictions,predicted_class_indices[0:359])"
   ]
  },
  {
   "cell_type": "code",
   "execution_count": 82,
   "metadata": {},
   "outputs": [],
   "source": [
    "def plot_confusion_matrix(cm, classes,\n",
    "                        normalize=False,\n",
    "                        title='Confusion matrix',\n",
    "                        cmap=plt.cm.Blues):\n",
    "    \"\"\"\n",
    "    This function prints and plots the confusion matrix.\n",
    "    Normalization can be applied by setting `normalize=True`.\n",
    "    \"\"\"\n",
    "    plt.imshow(cm, interpolation='nearest', cmap=cmap)\n",
    "    plt.title(title)\n",
    "    plt.colorbar()\n",
    "    tick_marks = np.arange(len(classes))\n",
    "    plt.xticks(tick_marks, classes, rotation=45)\n",
    "    plt.yticks(tick_marks, classes)\n",
    "\n",
    "    if normalize:\n",
    "        cm = cm.astype('float') / cm.sum(axis=1)[:, np.newaxis]\n",
    "        print(\"Normalized confusion matrix\")\n",
    "    else:\n",
    "        print('Confusion matrix, without normalization')\n",
    "\n",
    "    print(cm)\n",
    "\n",
    "    thresh = cm.max() / 2.\n",
    "    for i, j in itertools.product(range(cm.shape[0]), range(cm.shape[1])):\n",
    "        plt.text(j, i, cm[i, j],\n",
    "            horizontalalignment=\"center\",\n",
    "            color=\"white\" if cm[i, j] > thresh else \"black\")\n",
    "\n",
    "    plt.tight_layout()\n",
    "    plt.ylabel('True label')\n",
    "    plt.xlabel('Predicted label')"
   ]
  },
  {
   "cell_type": "code",
   "execution_count": 83,
   "metadata": {},
   "outputs": [],
   "source": [
    "cm_plot_labels = ['Type A','Type B', 'Type C', 'NORMAL']"
   ]
  },
  {
   "cell_type": "code",
   "execution_count": 86,
   "metadata": {},
   "outputs": [
    {
     "name": "stdout",
     "output_type": "stream",
     "text": [
      "Confusion matrix, without normalization\n",
      "[[ 94   0   1   7]\n",
      " [  0  20   5   0]\n",
      " [  1   4  43   0]\n",
      " [  1   1   1 181]]\n"
     ]
    },
    {
     "data": {
      "image/png": "[encoded data removed]",
      "text/plain": [
       "<Figure size 432x288 with 2 Axes>"
      ]
     },
     "metadata": {
      "needs_background": "light"
     },
     "output_type": "display_data"
    }
   ],
   "source": [
    "plot_confusion_matrix(cm=cm, classes=cm_plot_labels, title='Confusion Matrix')"
   ]
  },
  {
   "cell_type": "markdown",
   "metadata": {},
   "source": [
    "#### Insights:\n",
    "\n",
    "- Type B and Type C are very similar effects on the lungs. \n",
    "- More fine details need to be captured to distinguish Type B and C better. We need to go deeper and more complexx CNN, but also more data for these diseases.\n",
    "- Type A is distinguishable from Type B and Type C, but few cases might have been detected at a nascent stage or might not have severe affect on the lungs"
   ]
  }
 ],
 "metadata": {
  "kernelspec": {
   "display_name": "Python 3",
   "language": "python",
   "name": "python3"
  },
  "language_info": {
   "codemirror_mode": {
    "name": "ipython",
    "version": 3
   },
   "file_extension": ".py",
   "mimetype": "text/x-python",
   "name": "python",
   "nbconvert_exporter": "python",
   "pygments_lexer": "ipython3",
   "version": "3.6.8"
  }
 },
 "nbformat": 4,
 "nbformat_minor": 2
}
